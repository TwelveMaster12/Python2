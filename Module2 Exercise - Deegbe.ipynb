{
 "cells": [
  {
   "cell_type": "markdown",
   "metadata": {},
   "source": [
    "## Exercises\n",
    "### Write the pseudocode for these problems. \n",
    "\n",
    "#### Define the problem by constructing an IPO diagram showing input, output, and processing steps\n",
    "Ask yourself\n",
    "- What control structures (sequence, selection and repetition) are required?\n",
    "- What variables are required?\n",
    "\n",
    "Show a check of your solution with **test data** for at least **two valid test cases**\n",
    "If you use the numbers provided in the example then the correct pseudocode will calculate the same result.\n",
    "    "
   ]
  },
  {
   "cell_type": "markdown",
   "metadata": {},
   "source": [
    "#### 1. Find the average score\n",
    "A program is needed to prompt the user operator for exam scores, calculate the average score and display the result to the screen. The average score is calculated as the sum of the scores divided by the number of scores."
   ]
  },
  {
   "cell_type": "markdown",
   "metadata": {},
   "source": [
    "#### IPO: \n",
    " Input:\n",
    " exam scores\n",
    " \n",
    " Process:\n",
    " Divide the total number of data points by the sum of all the data values\n",
    " \n",
    " Output:\n",
    "  The average value of all of the text scores\n",
    "  \n",
    "  #### Check:\n",
    "  \n",
    "  Assume there are 3 tests, to which the student scored a 50 on all three.\n",
    "  \n",
    "  Input: 50, 50, 50\n",
    "  \n",
    "  Process: \n",
    "   (Using a counter) Read in the values prompted by the user in a loop, and terminate when the user types -999\n",
    "   \n",
    "   (50 + 50 + 50) / 3 = 50\n",
    "  \n",
    "  Output: 50"
   ]
  },
  {
   "cell_type": "markdown",
   "metadata": {},
   "source": [
    "#### 2. How much water runs off a roof in a rain storm?\n",
    "To calculate the runoff from any given rainfall: Take the dimensions of the footprint of the roof and convert them to inches. (So, a 50' x 20' roof is 600\" x 240\"). Multiply the roof dimensions by the number of inches of rainfall. As an example, 600\" x 240\" x 1\" = 144,000 cubic inches of water for an inch of rainfall. Divide that result by 231 to get the number of gallons (because 1 gallon = 231 cubic inches). (144,000/231 = 623.38)."
   ]
  },
  {
   "cell_type": "markdown",
   "metadata": {},
   "source": [
    "#### IPO:\n",
    "Input: \n",
    " Dimensions of roof, Total inches of rainfall\n",
    " \n",
    "Process:\n",
    " multiply the dimensions of the roof by the inches of rainfall, then divide by 231\n",
    " \n",
    " Output:\n",
    " the amount of water that runs off a roof in a rain storm"
   ]
  },
  {
   "cell_type": "markdown",
   "metadata": {},
   "source": [
    "#### 3. Process customer record\n",
    "A program is required to read a customer’s name, a purchase amount and a tax code. The tax code has been validated and will be \n",
    "one of the following: 0 tax exempt (0%) 1 state sales tax only (3%) 2 federal and state sales tax (5%) 3 special sales tax (7%) The program must then compute the sales tax and the total amount due,and print the customer’s name, purchase amount, sales tax and total amount due."
   ]
  },
  {
   "cell_type": "markdown",
   "metadata": {},
   "source": [
    "#### IPO:\n",
    "Input: \n",
    " Customer name, tax code, purchase amount\n",
    " \n",
    " Process:\n",
    "  Multiply the purchase according to the tax code (using decimals) and the result is the sales tax. to get the total amount due, add the purchase amount by the sales tax.\n",
    "  \n",
    "  Output:\n",
    "   Sales tax, Customer name, Total amount due, purchase amount\n",
    "   \n",
    "   \n",
    "   #### Check:\n",
    "   \n",
    "   Assume that the customer's name is Frank Deegbe, the tax code is 1, and he/she bought a dog toy for $5.00\n",
    "   \n",
    "   Input:\n",
    "    Frank Deegbe, 1, 5.00\n",
    "    \n",
    "   Process: \n",
    "    After gettng the data from the user in a sequence, all thats left to do is calculate the sales tax and total amount due.\n",
    "    \n",
    "    (.03 * 5.00) = .02 (sales tax)\n",
    "    \n",
    "    Add the sales tax by the total \n",
    "    \n",
    "    .02 + 5.00 = 5.02 (Total amount due)\n",
    "    \n",
    "    Output: .02 Sales tax, Frank Deegbe (Customer name), 5.02 Total amount due, 5.00 purchase amount"
   ]
  },
  {
   "cell_type": "markdown",
   "metadata": {},
   "source": [
    "#### 4. Calculate employee's pay \n",
    "A program is required by a company to read an employee’s number, pay rate and the number of hours worked in a week. The program is then to validate the pay rate field and the hours worked field and, if valid, compute the employee’s weekly pay and then print it and the input data.\n",
    "\n",
    "Validation: According to the company’s rules, the maximum hours an employee can work per week is 60 hours, and the maximum hourly rate is $25.00 per hour. If the hours worked field or the hourly rate field is out of range, the input data and an appropriate message are to be printed and the employee’s weekly pay is not to be calculated.\n",
    "\n",
    "Weekly pay calculation: Weekly pay is calculated as hours worked times pay rate. If more than 35 hours are worked, payment for the overtime hours worked is calculated at time-and-a-half."
   ]
  },
  {
   "cell_type": "markdown",
   "metadata": {},
   "source": [
    "#### IPO:\n",
    "Input: \n",
    " Employee number, Pay rate, Number of hours worked in a week\n",
    "\n",
    "Process:\n",
    " Check the employee number with pay rate; multiply number of hours worked in a week by pay rate to calculate weekly pay, if number of hours worked in a week is greater than 35, subtract the number of hours worked by 35 and multiply that value by half of the pay rate to calculate the overtime bonus then add the weekly pay (35 times pay rate) by the overtime bonus.\n",
    " \n",
    "Output:\n",
    " Employee number, Pay rate, Number of hours worked in a week\n",
    " "
   ]
  }
 ],
 "metadata": {
  "kernelspec": {
   "display_name": "Python 3",
   "language": "python",
   "name": "python3"
  },
  "language_info": {
   "codemirror_mode": {
    "name": "ipython",
    "version": 3
   },
   "file_extension": ".py",
   "mimetype": "text/x-python",
   "name": "python",
   "nbconvert_exporter": "python",
   "pygments_lexer": "ipython3",
   "version": "3.8.8"
  }
 },
 "nbformat": 4,
 "nbformat_minor": 2
}
